{
 "cells": [
  {
   "cell_type": "code",
   "execution_count": 44,
   "id": "4497ee4a-0ae0-4fb7-9271-89b67ac613ba",
   "metadata": {},
   "outputs": [
    {
     "name": "stdin",
     "output_type": "stream",
     "text": [
      "Value: 10\n"
     ]
    },
    {
     "name": "stdout",
     "output_type": "stream",
     "text": [
      "Correct\n"
     ]
    }
   ],
   "source": [
    "i=10\n",
    "num = int(input(\"Value:\"))\n",
    "if i==10:\n",
    "  print(\"Correct\")\n"
   ]
  },
  {
   "cell_type": "code",
   "execution_count": 49,
   "id": "02892294-0e5b-4e44-b2ba-b0c001c378f8",
   "metadata": {},
   "outputs": [
    {
     "name": "stdin",
     "output_type": "stream",
     "text": [
      "Enter the password:  Hope@123\n"
     ]
    },
    {
     "name": "stdout",
     "output_type": "stream",
     "text": [
      "Your password is correct\n"
     ]
    }
   ],
   "source": [
    "password = input(\"Enter the password: \")\n",
    "if password == \"Hope@123\":\n",
    "    print(\"Your password is correct\")\n",
    "else:\n",
    "    print(\"Incorrect password\")\n"
   ]
  },
  {
   "cell_type": "code",
   "execution_count": 50,
   "id": "08a8f582-39a6-41a5-bfa4-ccbb0dad6c7c",
   "metadata": {},
   "outputs": [
    {
     "name": "stdin",
     "output_type": "stream",
     "text": [
      "Enter the age: 20\n"
     ]
    },
    {
     "name": "stdout",
     "output_type": "stream",
     "text": [
      "Adult\n"
     ]
    }
   ],
   "source": [
    "age = int(input(\"Enter the age:\"))\n",
    "if(age<18):\n",
    "    print(\"Children\")\n",
    "elif(age<35):\n",
    "      print(\"Adult\")\n",
    "elif(age<59):\n",
    "      print(\"Citizen\")\n",
    "else:\n",
    "      print(\"Senior Citizen\")"
   ]
  },
  {
   "cell_type": "code",
   "execution_count": 53,
   "id": "5edfd459-1ecd-4148-bb3f-a8b49c7f65a2",
   "metadata": {},
   "outputs": [
    {
     "name": "stdin",
     "output_type": "stream",
     "text": [
      "Enter the number: 1\n"
     ]
    },
    {
     "name": "stdout",
     "output_type": "stream",
     "text": [
      "No is Positive\n"
     ]
    }
   ],
   "source": [
    "Number = int(input(\"Enter the number:\"))\n",
    "if(Number>0):\n",
    "    print(\"No is Positive\")\n",
    "else:\n",
    "      print(\"No is Negative\")"
   ]
  },
  {
   "cell_type": "code",
   "execution_count": 55,
   "id": "984f1a62-1e32-41ea-9404-f172a43b8c00",
   "metadata": {},
   "outputs": [
    {
     "name": "stdin",
     "output_type": "stream",
     "text": [
      "Enter the number to check: 22\n"
     ]
    },
    {
     "name": "stdout",
     "output_type": "stream",
     "text": [
      "No is not divisible by 5\n"
     ]
    }
   ],
   "source": [
    "Num = int(input(\"Enter the number to check:\"))\n",
    "if((Num % 5)==1):\n",
    "    print(\"No is divisible by 5\")\n",
    "else:\n",
    "      print(\"No is not divisible by 5\")"
   ]
  },
  {
   "cell_type": "code",
   "execution_count": null,
   "id": "1d392b5b-97a5-480c-a290-0158b626159b",
   "metadata": {},
   "outputs": [],
   "source": []
  }
 ],
 "metadata": {
  "kernelspec": {
   "display_name": "Python 3 (ipykernel)",
   "language": "python",
   "name": "python3"
  },
  "language_info": {
   "codemirror_mode": {
    "name": "ipython",
    "version": 3
   },
   "file_extension": ".py",
   "mimetype": "text/x-python",
   "name": "python",
   "nbconvert_exporter": "python",
   "pygments_lexer": "ipython3",
   "version": "3.11.7"
  }
 },
 "nbformat": 4,
 "nbformat_minor": 5
}
